{
 "cells": [
  {
   "cell_type": "markdown",
   "metadata": {},
   "source": [
    "# Task4"
   ]
  },
  {
   "cell_type": "code",
   "execution_count": 2,
   "metadata": {},
   "outputs": [
    {
     "name": "stdout",
     "output_type": "stream",
     "text": [
      "this is a string\n",
      "this-is-a-string\n"
     ]
    }
   ],
   "source": [
    "# Question 1\n",
    "\n",
    "def split_and_join(line):\n",
    "    liist=line.split()\n",
    "    liist=\"-\".join(liist)\n",
    "    return liist\n",
    "\n",
    "if __name__ == '__main__':\n",
    "    line = input()\n",
    "    result = split_and_join(line)\n",
    "    print(result)"
   ]
  },
  {
   "cell_type": "code",
   "execution_count": 3,
   "metadata": {},
   "outputs": [
    {
     "name": "stdout",
     "output_type": "stream",
     "text": [
      "Ross\n",
      "Taylor\n",
      "Hello Ross Taylor! You just delved into python.\n"
     ]
    }
   ],
   "source": [
    "# Question 2\n",
    "\n",
    "def print_full_name(a, b):\n",
    "    a=first_name\n",
    "    b=last_name\n",
    "    print (\"Hello\"+\" \"+a+\" \"+b+\"! You just delved into python.\")\n",
    "\n",
    "if __name__ == '__main__':\n",
    "    first_name = input()\n",
    "    last_name = input()\n",
    "    print_full_name(first_name, last_name)"
   ]
  },
  {
   "cell_type": "code",
   "execution_count": 17,
   "metadata": {},
   "outputs": [
    {
     "name": "stdout",
     "output_type": "stream",
     "text": [
      "abracadabra\n",
      "5 k\n",
      "abrackdabra\n"
     ]
    }
   ],
   "source": [
    "# Question 3\n",
    "\n",
    "def mutate_string(string, position, character):\n",
    "    l = list(string)\n",
    "    l[position] = character\n",
    "    string = ''.join(l)\n",
    "    return string\n",
    "\n",
    "\n",
    "if __name__ == '__main__':\n",
    "    s = input()\n",
    "    i, c = input().split()\n",
    "    s_new = mutate_string(s, int(i), c)\n",
    "    print(s_new)"
   ]
  },
  {
   "cell_type": "code",
   "execution_count": 2,
   "metadata": {},
   "outputs": [
    {
     "name": "stdout",
     "output_type": "stream",
     "text": [
      "ABCDCDC\n",
      "CDC\n",
      "2\n"
     ]
    }
   ],
   "source": [
    "# Question 4\n",
    "\n",
    "def count_substring(string, sub_string):\n",
    "    count = start = 0\n",
    "    while True:\n",
    "        start = string.find(sub_string, start) + 1\n",
    "        if start > 0:\n",
    "            count+=1\n",
    "        else:\n",
    "            return count\n",
    "\n",
    "if __name__ == '__main__':\n",
    "    string = input().strip()\n",
    "    sub_string = input().strip()\n",
    "    \n",
    "    count = count_substring(string, sub_string)\n",
    "    print(count)"
   ]
  },
  {
   "cell_type": "code",
   "execution_count": 3,
   "metadata": {},
   "outputs": [
    {
     "name": "stdout",
     "output_type": "stream",
     "text": [
      "qA2\n",
      "True\n",
      "True\n",
      "True\n",
      "True\n",
      "True\n"
     ]
    }
   ],
   "source": [
    "# Question 5\n",
    "\n",
    "if __name__ == '__main__':\n",
    "    s = input()\n",
    "    def aln(s):\n",
    "        a=0\n",
    "        for i in range(len(s)):\n",
    "            if s[i].isalnum():\n",
    "                if(a==0):\n",
    "                    print(\"True\")\n",
    "                    a=a+1\n",
    "        if((i==len(s)-1)&(a==0)):\n",
    "            print(\"False\")\n",
    "    def alp(s):\n",
    "        b=0\n",
    "        for i in range(len(s)):\n",
    "            if s[i].isalpha():\n",
    "                if(b==0):\n",
    "                    print(\"True\")\n",
    "                    b=b+1\n",
    "        if((i==len(s)-1)&(b==0)):\n",
    "            print(\"False\")\n",
    "    def dig(s):\n",
    "        c=0\n",
    "        for i in range(len(s)):\n",
    "            if s[i].isdigit():\n",
    "                if(c==0):\n",
    "                    print(\"True\")\n",
    "                    c=c+1\n",
    "        if((i==len(s)-1)&(c==0)):\n",
    "            print(\"False\")\n",
    "    def low(s):\n",
    "        d=0\n",
    "        for i in range(len(s)):\n",
    "            if s[i].islower():\n",
    "                if(d==0):\n",
    "                    print(\"True\")\n",
    "                    d=d+1\n",
    "        if((i==len(s)-1)&(d==0)):\n",
    "            print(\"False\")\n",
    "    def upp(s):\n",
    "        e=0\n",
    "        for i in range(len(s)):\n",
    "            if s[i].isupper():\n",
    "                if(e==0):\n",
    "                    print(\"True\")\n",
    "                    e=e+1\n",
    "        if((i==len(s)-1)&(e==0)):\n",
    "            print(\"False\")\n",
    "    aln(s)\n",
    "    alp(s)\n",
    "    dig(s)\n",
    "    low(s)\n",
    "    upp(s)\n"
   ]
  },
  {
   "cell_type": "code",
   "execution_count": 4,
   "metadata": {},
   "outputs": [
    {
     "name": "stdout",
     "output_type": "stream",
     "text": [
      "5\n",
      "    H    \n",
      "   HHH   \n",
      "  HHHHH  \n",
      " HHHHHHH \n",
      "HHHHHHHHH\n",
      "  HHHHH               HHHHH             \n",
      "  HHHHH               HHHHH             \n",
      "  HHHHH               HHHHH             \n",
      "  HHHHH               HHHHH             \n",
      "  HHHHH               HHHHH             \n",
      "  HHHHH               HHHHH             \n",
      "  HHHHHHHHHHHHHHHHHHHHHHHHH   \n",
      "  HHHHHHHHHHHHHHHHHHHHHHHHH   \n",
      "  HHHHHHHHHHHHHHHHHHHHHHHHH   \n",
      "  HHHHH               HHHHH             \n",
      "  HHHHH               HHHHH             \n",
      "  HHHHH               HHHHH             \n",
      "  HHHHH               HHHHH             \n",
      "  HHHHH               HHHHH             \n",
      "  HHHHH               HHHHH             \n",
      "                    HHHHHHHHH \n",
      "                     HHHHHHH  \n",
      "                      HHHHH   \n",
      "                       HHH    \n",
      "                        H     \n"
     ]
    }
   ],
   "source": [
    "# Question 6\n",
    "\n",
    "#Replace all ______ with rjust, ljust or center. \n",
    "\n",
    "thickness = int(input()) #This must be an odd number\n",
    "c = 'H'\n",
    "\n",
    "#Top Cone\n",
    "for i in range(thickness):\n",
    "    print((c*i).rjust(thickness-1)+c+(c*i).ljust(thickness-1))\n",
    "\n",
    "#Top Pillars\n",
    "for i in range(thickness+1):\n",
    "    print((c*thickness).center(thickness*2)+(c*thickness).center(thickness*6))\n",
    "\n",
    "#Middle Belt\n",
    "for i in range((thickness+1)//2):\n",
    "    print((c*thickness*5).center(thickness*6))    \n",
    "\n",
    "#Bottom Pillars\n",
    "for i in range(thickness+1):\n",
    "    print((c*thickness).center(thickness*2)+(c*thickness).center(thickness*6))    \n",
    "\n",
    "#Bottom Cone\n",
    "for i in range(thickness):\n",
    "    print(((c*(thickness-i-1)).rjust(thickness)+c+(c*(thickness-i-1)).ljust(thickness)).rjust(thickness*6))\n"
   ]
  },
  {
   "cell_type": "code",
   "execution_count": 5,
   "metadata": {},
   "outputs": [
    {
     "name": "stdout",
     "output_type": "stream",
     "text": [
      "ABCDEFGHIJKLIMNOQRSTUVWXYZ\n",
      "4\n",
      "ABCD\n",
      "EFGH\n",
      "IJKL\n",
      "IMNO\n",
      "QRST\n",
      "UVWX\n",
      "YZ\n"
     ]
    }
   ],
   "source": [
    "# Question 7\n",
    "\n",
    "import textwrap\n",
    "def wrap(string, max_width):\n",
    "    new=\"\"\n",
    "    wrapper = textwrap.TextWrapper(width=max_width) \n",
    "    word_list = wrapper.wrap(text=string) \n",
    "    for i in range(len(word_list)):\n",
    "        if(i==0):\n",
    "            new=word_list[i]\n",
    "        if(i>0):\n",
    "            new=new+'\\n'+word_list[i]\n",
    "    return new\n",
    "\n",
    "if __name__ == '__main__':\n",
    "    string, max_width = input(), int(input())\n",
    "    result = wrap(string, max_width)\n",
    "    print(result)"
   ]
  },
  {
   "cell_type": "code",
   "execution_count": 6,
   "metadata": {},
   "outputs": [
    {
     "name": "stdout",
     "output_type": "stream",
     "text": [
      "9 27\n",
      "------------.|.------------\n",
      "---------.|..|..|.---------\n",
      "------.|..|..|..|..|.------\n",
      "---.|..|..|..|..|..|..|.---\n",
      "----------WELCOME----------\n",
      "---.|..|..|..|..|..|..|.---\n",
      "------.|..|..|..|..|.------\n",
      "---------.|..|..|.---------\n",
      "------------.|.------------\n"
     ]
    }
   ],
   "source": [
    "# Question 8\n",
    "\n",
    "a='|..'\n",
    "b='.'\n",
    "c='-'\n",
    "d='|'\n",
    "r,c=input().split()\n",
    "for i in range(int(r)):\n",
    "    if(i<(int(r)//2)):\n",
    "        print((b+(a*i*2)+d+b).center(int(c),\"-\"))\n",
    "    if(i==(int(r)//2)):\n",
    "        print('WELCOME'.center(int(c),\"-\"))\n",
    "    if(i>(int(r)//2)):\n",
    "        print((b+(a*(int(r)-1-i)*2)+d+b).center(int(c),\"-\"))"
   ]
  },
  {
   "cell_type": "code",
   "execution_count": 9,
   "metadata": {},
   "outputs": [
    {
     "name": "stdout",
     "output_type": "stream",
     "text": [
      "17\n",
      "    1     1     1     1\n",
      "    2     2     2    10\n",
      "    3     3     3    11\n",
      "    4     4     4   100\n",
      "    5     5     5   101\n",
      "    6     6     6   110\n",
      "    7     7     7   111\n",
      "    8    10     8  1000\n",
      "    9    11     9  1001\n",
      "   10    12     A  1010\n",
      "   11    13     B  1011\n",
      "   12    14     C  1100\n",
      "   13    15     D  1101\n",
      "   14    16     E  1110\n",
      "   15    17     F  1111\n",
      "   16    20    10 10000\n",
      "   17    21    11 10001\n"
     ]
    }
   ],
   "source": [
    "# Question 9\n",
    "\n",
    "def print_formatted(strnum):\n",
    "    num = int(strnum)\n",
    "    pad = len(str(\"{0:b}\".format(num)))\n",
    "    for i in range (1,num+1):\n",
    "       strNum=str(i)\n",
    "\n",
    "    #octal\n",
    "       octstr=str(oct(i))\n",
    "       finaloct=octstr[2:]\n",
    "\n",
    "        #hex\n",
    "       hexstr=str(hex(i))\n",
    "       finalhex=hexstr[2:].upper()\n",
    "\n",
    "    #binary\n",
    "       bNum = \"{0:b}\".format(i)\n",
    "       strbNum = str(bNum)\n",
    "       print(strNum.rjust(pad),end=' ')\n",
    "       print(finaloct.rjust(pad),end=' ')\n",
    "       print(finalhex.rjust(pad),end=' ')\n",
    "       print(strbNum.rjust(pad),end='\\n')\n",
    "if __name__ == '__main__':\n",
    "    n = int(input())\n",
    "    print_formatted(n)"
   ]
  },
  {
   "cell_type": "code",
   "execution_count": 10,
   "metadata": {},
   "outputs": [
    {
     "name": "stdout",
     "output_type": "stream",
     "text": [
      "5\n",
      "--------e--------\n",
      "------e-d-e------\n",
      "----e-d-c-d-e----\n",
      "--e-d-c-b-c-d-e--\n",
      "e-d-c-b-a-b-c-d-e\n",
      "--e-d-c-b-c-d-e--\n",
      "----e-d-c-d-e----\n",
      "------e-d-e------\n",
      "--------e--------\n"
     ]
    }
   ],
   "source": [
    "# Question 10\n",
    "\n",
    "import string \n",
    "def print_rangoli(size):\n",
    "    alpha = string.ascii_lowercase\n",
    "\n",
    "    List = []\n",
    "    for i in range(n):\n",
    "        s = \"-\".join(alpha[i:n])\n",
    "        List.append((s[::-1]+s[1:]).center(4*n-3, \"-\"))\n",
    "        \n",
    "    print('\\n'.join(List[:0:-1]+List))\n",
    "\n",
    "if __name__ == '__main__':\n",
    "    n = int(input())\n",
    "    print_rangoli(n)"
   ]
  },
  {
   "cell_type": "code",
   "execution_count": 14,
   "metadata": {},
   "outputs": [],
   "source": [
    "# Question 11\n",
    "\n",
    "def solve(s):\n",
    "    for i in s.split():\n",
    "        s = s.replace(i,i.capitalize())\n",
    "    return s\n"
   ]
  },
  {
   "cell_type": "code",
   "execution_count": 15,
   "metadata": {},
   "outputs": [
    {
     "name": "stdout",
     "output_type": "stream",
     "text": [
      "BANANA\n",
      "Stuart 12\n"
     ]
    }
   ],
   "source": [
    "# Question 12\n",
    "\n",
    "v = ['A', 'E', 'I', 'O', 'U']\n",
    "\n",
    "def minion_game(string):\n",
    "    k = 0\n",
    "    s = 0\n",
    "    \n",
    "    for ind in range(len(string)):\n",
    "        if string[ind] in v:\n",
    "            k += len(string) - ind\n",
    "        else:\n",
    "            s += len(string) - ind\n",
    "    \n",
    "    if k > s:\n",
    "        print(\"Kevin {}\".format(k))\n",
    "    elif k < s:\n",
    "        print(\"Stuart {}\".format(s))\n",
    "    else:\n",
    "        print(\"Draw\")\n",
    "if __name__ == '__main__':\n",
    "    s = input()\n",
    "    minion_game(s)"
   ]
  },
  {
   "cell_type": "code",
   "execution_count": 16,
   "metadata": {},
   "outputs": [
    {
     "name": "stdout",
     "output_type": "stream",
     "text": [
      "AABCAAADA\n",
      "3\n",
      "AB\n",
      "CA\n",
      "AD\n"
     ]
    }
   ],
   "source": [
    "# Question 13\n",
    "\n",
    "from collections import OrderedDict\n",
    "def merge_the_tools(string, k):\n",
    "    slen = len(string)\n",
    "    for i in range(0,slen,k):\n",
    "        print(''.join(OrderedDict.fromkeys(string[i:i + k])))\n",
    "\n",
    "if __name__ == '__main__':\n",
    "    string, k = input(), int(input())\n",
    "    merge_the_tools(string, k)"
   ]
  }
 ],
 "metadata": {
  "kernelspec": {
   "display_name": "Python 3",
   "language": "python",
   "name": "python3"
  },
  "language_info": {
   "codemirror_mode": {
    "name": "ipython",
    "version": 3
   },
   "file_extension": ".py",
   "mimetype": "text/x-python",
   "name": "python",
   "nbconvert_exporter": "python",
   "pygments_lexer": "ipython3",
   "version": "3.8.3"
  }
 },
 "nbformat": 4,
 "nbformat_minor": 4
}
