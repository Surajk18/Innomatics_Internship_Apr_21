{
 "cells": [
  {
   "cell_type": "markdown",
   "metadata": {},
   "source": [
    "# TASK-6"
   ]
  },
  {
   "cell_type": "code",
   "execution_count": 3,
   "metadata": {},
   "outputs": [
    {
     "name": "stdout",
     "output_type": "stream",
     "text": [
      "1 2 3 4 5\n",
      "[5. 4. 3. 2. 1.]\n"
     ]
    }
   ],
   "source": [
    "# Question :1\n",
    "\n",
    "import numpy\n",
    "\n",
    "def arrays(arr):\n",
    "    \n",
    "    a=numpy.array(arr,float)\n",
    "    \n",
    "    n=len(a)\n",
    "    k=n//2\n",
    "    i=0\n",
    "    while i<k:\n",
    "        t=a[n-i-1]\n",
    "        a[n-i-1]=a[i]\n",
    "        a[i]=t\n",
    "        i+=1\n",
    "    \n",
    "    return a\n",
    "    \n",
    "arr = input().strip().split(' ')\n",
    "result = arrays(arr)\n",
    "print(result)"
   ]
  },
  {
   "cell_type": "code",
   "execution_count": null,
   "metadata": {},
   "outputs": [],
   "source": [
    "# Question 2:\n",
    "\n",
    "import numpy\n",
    "\n",
    "num=list(map(int,input().split(' ')))\n",
    "\n",
    "arr=numpy.array(num)\n",
    "\n",
    "ar=numpy.reshape(arr,(3,3))\n",
    "\n",
    "print(ar)"
   ]
  },
  {
   "cell_type": "code",
   "execution_count": null,
   "metadata": {},
   "outputs": [],
   "source": [
    "#Question 3\n",
    "\n",
    "import numpy\n",
    "\n",
    "lst=list(map(int,input().split(' ')))\n",
    "n=lst[0]\n",
    "m=lst[1]\n",
    "\n",
    "num=[]\n",
    "\n",
    "for i in range(n):\n",
    "    nu=list(map(int,input().split(' ')))\n",
    "    num.append(nu)\n",
    "    \n",
    "arr2d=numpy.array(num)\n",
    "\n",
    "print(arr2d.T)\n",
    "print(arr2d.flatten())"
   ]
  },
  {
   "cell_type": "code",
   "execution_count": null,
   "metadata": {},
   "outputs": [],
   "source": [
    "#question 4\n",
    "import numpy\n",
    "\n",
    "lst=list(map(int,input().split(' ')))\n",
    "\n",
    "n=lst[0]\n",
    "m=lst[1]\n",
    "p=lst[2]\n",
    "\n",
    "num1=[]\n",
    "for i in range(n):\n",
    "    num1.append(list(map(int,input().split(' '))))\n",
    "    \n",
    "num2=[]\n",
    "for i in range(m):\n",
    "    num2.append(list(map(int,input().split(' '))))\n",
    "    \n",
    "arr1=numpy.array(num1)\n",
    "arr2=numpy.array(num2)\n",
    "\n",
    "arr=numpy.concatenate((arr1,arr2),axis=0)\n",
    "print(arr)"
   ]
  },
  {
   "cell_type": "code",
   "execution_count": null,
   "metadata": {},
   "outputs": [],
   "source": [
    "# Question 5:\n",
    "\n",
    "import numpy\n",
    "\n",
    "nums = tuple(map(int, input().split()))\n",
    "print (numpy.zeros(nums, dtype = numpy.int))\n",
    "print (numpy.ones(nums, dtype = numpy.int))"
   ]
  },
  {
   "cell_type": "code",
   "execution_count": null,
   "metadata": {},
   "outputs": [],
   "source": [
    "# Question 6:\n",
    "\n",
    "import numpy\n",
    "numpy.set_printoptions(legacy='1.13')\n",
    "\n",
    "lst=list(map(int,input().split(' ')))\n",
    "n=lst[0]\n",
    "m=lst[1]\n",
    "\n",
    "print(numpy.eye(n,m))"
   ]
  },
  {
   "cell_type": "code",
   "execution_count": null,
   "metadata": {},
   "outputs": [],
   "source": [
    "\n",
    "# Question 7:\n",
    "\n",
    "import numpy\n",
    "\n",
    "lst=input().split(' ')\n",
    "n=int(lst[0])\n",
    "m=int(lst[1])\n",
    "\n",
    "lst=[]\n",
    "for i in range(n):\n",
    "    lst.append(list(map(int,input().split(' '))))\n",
    "    \n",
    "arrA=numpy.array(lst,int)\n",
    "\n",
    "lst=[]\n",
    "for i in range(n):\n",
    "    lst.append(list(map(int,input().split(' '))))\n",
    "    \n",
    "arrB=numpy.array(lst,int)\n",
    "\n",
    "print(arrA+arrB)\n",
    "print(arrA-arrB)\n",
    "print(arrA*arrB)\n",
    "print(arrA//arrB)\n",
    "print(arrA%arrB)\n",
    "print(arrA**arrB)\n"
   ]
  },
  {
   "cell_type": "code",
   "execution_count": null,
   "metadata": {},
   "outputs": [],
   "source": [
    "\n",
    "# Question 8:\n",
    "\n",
    "import numpy\n",
    "numpy.set_printoptions(legacy='1.13')\n",
    "\n",
    "arr=numpy.array(list(map(float,input().split(' '))))\n",
    "\n",
    "print(numpy.floor(arr))\n",
    "print(numpy.ceil(arr))\n",
    "print(numpy.rint(arr))"
   ]
  },
  {
   "cell_type": "code",
   "execution_count": null,
   "metadata": {},
   "outputs": [],
   "source": [
    "# Question 9:\n",
    "\n",
    "import numpy\n",
    "\n",
    "lst=list(map(int,input().split(' ')))\n",
    "n=lst[0]\n",
    "m=lst[1]\n",
    "\n",
    "lst=[]\n",
    "for i in range(n):\n",
    "    lst.append(list(map(int,input().split(' '))))\n",
    "    \n",
    "arr=numpy.array(lst,int)\n",
    "\n",
    "arr=numpy.sum(arr,axis=0)\n",
    "\n",
    "print(numpy.prod(arr))"
   ]
  },
  {
   "cell_type": "code",
   "execution_count": null,
   "metadata": {},
   "outputs": [],
   "source": [
    "# Question 10:\n",
    "\n",
    "import numpy\n",
    "\n",
    "lst=list(map(int,input().split(' ')))\n",
    "n=lst[0]\n",
    "m=lst[1]\n",
    "\n",
    "lst=[]\n",
    "for i in range(n):\n",
    "    lst.append(list(map(int,input().split(' '))))\n",
    "    \n",
    "arr=numpy.array(lst)\n",
    "\n",
    "arr=numpy.min(arr,axis=1)\n",
    "\n",
    "print(numpy.max(arr))"
   ]
  },
  {
   "cell_type": "code",
   "execution_count": null,
   "metadata": {},
   "outputs": [],
   "source": [
    "# Question 11:\n",
    "\n",
    "import numpy\n",
    "\n",
    "lst=list(map(int,input().split(' ')))\n",
    "n=lst[0]\n",
    "m=lst[1]\n",
    "\n",
    "lst=[]\n",
    "for i in range(n):\n",
    "    lst.append(list(map(int,input().split(' '))))\n",
    "    \n",
    "arr=numpy.array(lst)\n",
    "\n",
    "print(numpy.mean(arr,axis=1))\n",
    "print(numpy.var(arr,axis=0))\n",
    "print(round(numpy.std(arr),11))"
   ]
  },
  {
   "cell_type": "code",
   "execution_count": null,
   "metadata": {},
   "outputs": [],
   "source": [
    "# Question 12:\n",
    "\n",
    "import numpy\n",
    "\n",
    "\n",
    "n=int(input())\n",
    "\n",
    "lst=[]\n",
    "for i in range(n):\n",
    "    lst.append(list(map(int,input().split(' '))))\n",
    "    \n",
    "arrA=numpy.array(lst)\n",
    "\n",
    "lst=[]\n",
    "for i in range(n):\n",
    "    lst.append(list(map(int,input().split(' '))))\n",
    "    \n",
    "arrB=numpy.array(lst)\n",
    "\n",
    "print(numpy.matmul(arrA,arrB))"
   ]
  },
  {
   "cell_type": "code",
   "execution_count": null,
   "metadata": {},
   "outputs": [],
   "source": [
    "\n",
    "# Question 13:\n",
    "\n",
    "import numpy\n",
    "\n",
    "arrA=numpy.array((list(map(int,input().split(' ')))))\n",
    "arrB=numpy.array((list(map(int,input().split(' ')))))\n",
    "\n",
    "print(numpy.inner(arrA,arrB))\n",
    "print(numpy.outer(arrA,arrB))"
   ]
  },
  {
   "cell_type": "code",
   "execution_count": null,
   "metadata": {},
   "outputs": [],
   "source": [
    "# Question 14:\n",
    "\n",
    "import numpy\n",
    "\n",
    "arrA=numpy.array((list(map(float,input().split(' ')))))\n",
    "\n",
    "n=int(input())\n",
    "\n",
    "print(numpy.polyval(arrA,n))"
   ]
  },
  {
   "cell_type": "code",
   "execution_count": null,
   "metadata": {},
   "outputs": [],
   "source": [
    "# Question 15:\n",
    "\n",
    "import numpy\n",
    "\n",
    "n=int(input())\n",
    "lst=[]\n",
    "for i in range(n):\n",
    "    lst.append(list(map(float,input().split(' '))))\n",
    "    \n",
    "arr=numpy.array(lst)\n",
    "\n",
    "print(round(numpy.linalg.det(arr),2))"
   ]
  }
 ],
 "metadata": {
  "kernelspec": {
   "display_name": "Python 3",
   "language": "python",
   "name": "python3"
  },
  "language_info": {
   "codemirror_mode": {
    "name": "ipython",
    "version": 3
   },
   "file_extension": ".py",
   "mimetype": "text/x-python",
   "name": "python",
   "nbconvert_exporter": "python",
   "pygments_lexer": "ipython3",
   "version": "3.8.3"
  }
 },
 "nbformat": 4,
 "nbformat_minor": 4
}
