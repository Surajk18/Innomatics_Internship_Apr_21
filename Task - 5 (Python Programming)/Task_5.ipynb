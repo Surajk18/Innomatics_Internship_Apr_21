{
 "cells": [
  {
   "cell_type": "markdown",
   "metadata": {},
   "source": [
    "# Task5"
   ]
  },
  {
   "cell_type": "code",
   "execution_count": 3,
   "metadata": {},
   "outputs": [
    {
     "name": "stdout",
     "output_type": "stream",
     "text": [
      "100,000,000.000\n",
      "100\n",
      "000\n",
      "000\n",
      "000\n"
     ]
    }
   ],
   "source": [
    "# Question 1\n",
    "\n",
    "regex_pattern = r'[.,]+'    # Do not delete 'r'.\n",
    "\n",
    "import re\n",
    "print(\"\\n\".join(re.split(regex_pattern, input())))"
   ]
  },
  {
   "cell_type": "code",
   "execution_count": 4,
   "metadata": {},
   "outputs": [
    {
     "name": "stdout",
     "output_type": "stream",
     "text": [
      "..12345678910111213141516171820212223\n",
      "1\n"
     ]
    }
   ],
   "source": [
    "# Question 2\n",
    "\n",
    "import re\n",
    "\n",
    "exp=r\"([a-zA-Z0-9])\\1+\"\n",
    "\n",
    "p = re.search(exp,input())\n",
    "\n",
    "if p:\n",
    "    print(p.group(1))\n",
    "else:\n",
    "    print(-1)\n"
   ]
  },
  {
   "cell_type": "code",
   "execution_count": 5,
   "metadata": {},
   "outputs": [
    {
     "name": "stdout",
     "output_type": "stream",
     "text": [
      "rabcdeefgyYhFjkIoomnpOeorteeeeet\n",
      "ee\n",
      "Ioo\n",
      "Oeo\n",
      "eeeee\n"
     ]
    }
   ],
   "source": [
    "# Question 3\n",
    "\n",
    "import re\n",
    "\n",
    "s = re.findall(r'(?<=[qwrtypsdfghjklzxcvbnm])([aeiou]{2,})(?=[qwrtypsdfghjklzxcvbnm])', input().strip(), re.IGNORECASE)\n",
    "\n",
    "if s:\n",
    "    for i in s:\n",
    "        print(i)\n",
    "else:\n",
    "    print(-1)"
   ]
  },
  {
   "cell_type": "code",
   "execution_count": 6,
   "metadata": {},
   "outputs": [
    {
     "name": "stdout",
     "output_type": "stream",
     "text": [
      "aaadaa\n",
      "aa\n",
      "(0, 1)\n",
      "(1, 2)\n",
      "(4, 5)\n"
     ]
    }
   ],
   "source": [
    "# Question  4\n",
    "\n",
    "import re\n",
    "\n",
    "s = input()\n",
    "substr = input()\n",
    "\n",
    "p = re.compile(substr)\n",
    "m = p.search(s)\n",
    "if not m: print('(-1, -1)')\n",
    "while m:\n",
    "    print('({0}, {1})'.format(m.start(), m.end() - 1))\n",
    "    m = p.search(s, m.start() + 1)"
   ]
  },
  {
   "cell_type": "code",
   "execution_count": 7,
   "metadata": {},
   "outputs": [
    {
     "name": "stdout",
     "output_type": "stream",
     "text": [
      "11\n",
      "a = 1;\n",
      "a = 1;\n",
      "b = input();\n",
      "b = input();\n",
      "if a + b > 0 && a - b < 0:\n",
      "if a + b > 0 and a - b < 0:\n",
      "  start()\n",
      "  start()\n",
      "elif a*b > 10 || a/b < 1:\n",
      "elif a*b > 10 or a/b < 1:\n",
      " stop()\n",
      " stop()\n",
      "print set(list(a)) | set(list(b)) \n",
      "print set(list(a)) | set(list(b)) \n",
      "#Note do not change &&& or ||| or & or |\n",
      "#Note do not change &&& or ||| or & or |\n",
      "#Only change those '&&' which have space on both sides.\n",
      "#Only change those '&&' which have space on both sides.\n",
      "#Only change those '|| which have space on both sides.\n",
      "#Only change those '|| which have space on both sides.\n",
      "\n",
      "\n"
     ]
    }
   ],
   "source": [
    "# Question 5\n",
    "\n",
    "import re\n",
    "\n",
    "for l in range(int(input())):\n",
    "    s = ''\n",
    "    s = re.sub(r'(?<= )&&(?= )','and',input())\n",
    "    s = re.sub(r'(?<= )\\|\\|(?= )','or',s)\n",
    "    print(s)"
   ]
  },
  {
   "cell_type": "code",
   "execution_count": 8,
   "metadata": {},
   "outputs": [
    {
     "name": "stdout",
     "output_type": "stream",
     "text": [
      "CDXXI\n",
      "True\n"
     ]
    }
   ],
   "source": [
    "# Question  6\n",
    "\n",
    "regex_pattern = r'M{0,3}(C[MD]|D?C{0,3})(X[CL]|L?X{0,3})(I[VX]|V?I{0,3})$'\n",
    "\n",
    "import re\n",
    "print(str(bool(re.match(regex_pattern, input()))))"
   ]
  },
  {
   "cell_type": "code",
   "execution_count": 1,
   "metadata": {},
   "outputs": [
    {
     "name": "stdout",
     "output_type": "stream",
     "text": [
      "2\n",
      "9587456281\n",
      "YES\n",
      "1252478965\n",
      "NO\n"
     ]
    }
   ],
   "source": [
    "# Question  7\n",
    "import re\n",
    "\n",
    "N = int(input())\n",
    "\n",
    "for i in range(N):\n",
    "    num = input()\n",
    "    if(len(num)==10 and num.isdigit()):\n",
    "        output = re.findall(r\"^[789]\\d{9}$\",num)\n",
    "        if(len(output)==1):\n",
    "            print(\"YES\")\n",
    "        else:\n",
    "            print(\"NO\")\n",
    "    else:\n",
    "        print(\"NO\")\n"
   ]
  },
  {
   "cell_type": "code",
   "execution_count": 2,
   "metadata": {},
   "outputs": [
    {
     "name": "stdout",
     "output_type": "stream",
     "text": [
      "2\n",
      "DEXTER <dexter@hotmail.com>\n",
      "DEXTER <dexter@hotmail.com>\n",
      "VIRUS <virus!@variable.:p>\n"
     ]
    }
   ],
   "source": [
    "# Question 8\n",
    "\n",
    "import re\n",
    "\n",
    "num = int(input())\n",
    "\n",
    "for i in range(num):\n",
    "    n, email = input().split()\n",
    "    p=\"<[a-z][a-zA-Z0-9\\-\\.\\_]+@[a-zA-Z]+\\.[a-zA-Z]{1,3}>\"\n",
    "    if bool(re.match(p, email)):\n",
    "        print(n,email)"
   ]
  },
  {
   "cell_type": "code",
   "execution_count": 3,
   "metadata": {},
   "outputs": [
    {
     "name": "stdout",
     "output_type": "stream",
     "text": [
      "11\n",
      "#BED\n",
      "{\n",
      "color: #FfFdF8; background-color:#aef;\n",
      "#FfFdF8\n",
      "#aef\n",
      "font-size: 123px;\n",
      "background: -webkit-linear-gradient(top, #f9f9f9, #fff);\n",
      "#f9f9f9\n",
      "#fff\n",
      "}\n",
      "#Cab\n",
      "{\n",
      " background-color: #ABC;\n",
      "#ABC\n",
      " border: 2px dashed #fff;\n",
      "#fff\n",
      "\n"
     ]
    }
   ],
   "source": [
    "# Question 9\n",
    "\n",
    "import re\n",
    "num=int(input())\n",
    "\n",
    "for i in range(0,num):\n",
    "    s=input()\n",
    "\n",
    "    x=s.split()\n",
    "\n",
    "    if len(x)>1  and  '{' not in x:\n",
    "        x=re.findall(r'#[a-fA-F0-9]{3,6}',s)\n",
    "        for  i in x:\n",
    "            print(i)"
   ]
  },
  {
   "cell_type": "code",
   "execution_count": 4,
   "metadata": {},
   "outputs": [
    {
     "name": "stdout",
     "output_type": "stream",
     "text": [
      "2\n",
      "<html><head><title>HTML Parser - I</title></head>\n",
      "Start : html\n",
      "Start : head\n",
      "Start : title\n",
      "End   : title\n",
      "End   : head\n",
      "<body data-modal-target class='1'><h1>HackerRank</h1><br /></body></html>\n",
      "Start : body\n",
      "-> data-modal-target > None\n",
      "-> class > 1\n",
      "Start : h1\n",
      "End   : h1\n",
      "Empty : br\n",
      "End   : body\n",
      "End   : html\n"
     ]
    }
   ],
   "source": [
    "# Question 10\n",
    "\n",
    "from html.parser import HTMLParser\n",
    "\n",
    "\n",
    "class MyHTMLParser(HTMLParser):\n",
    "    def handle_starttag(self, tag, attrs):\n",
    "        print ('Start :', tag)\n",
    "        for ele in attrs:\n",
    "            print ('->', ele[0], '>', ele[1])\n",
    "\n",
    "    def handle_endtag(self, tag):\n",
    "        print ('End   :', tag)\n",
    "\n",
    "    def handle_startendtag(self, tag, attrs):\n",
    "        print ('Empty :', tag)\n",
    "        for ele in attrs:\n",
    "            print ('->', ele[0], '>', ele[1])\n",
    "\n",
    "\n",
    "parser = MyHTMLParser()\n",
    "for _ in range(int(input())):\n",
    "    parser.feed(input())\n"
   ]
  },
  {
   "cell_type": "code",
   "execution_count": 5,
   "metadata": {},
   "outputs": [
    {
     "name": "stdout",
     "output_type": "stream",
     "text": [
      "4\n",
      "<!--[if IE 9]>IE9-specific content\n",
      "<![endif]-->\n",
      "<div> Welcome to HackerRank</div>\n",
      "\n",
      ">>> Multi-line Comment\n",
      "[if IE 9]>IE9-specific content\n",
      "<![endif]\n",
      ">>> Data\n",
      " Welcome to HackerRank\n",
      ">>> Data\n",
      "\n",
      "\n",
      "\n"
     ]
    }
   ],
   "source": [
    "# Question  11\n",
    "\n",
    "\n",
    "from html.parser import HTMLParser\n",
    "\n",
    "\n",
    "class MyHTMLParser(HTMLParser):\n",
    "    def handle_comment(self, comment):\n",
    "        if '\\n' in comment:\n",
    "            print('>>> Multi-line Comment')\n",
    "        else:\n",
    "            print('>>> Single-line Comment')\n",
    "\n",
    "        print(comment)\n",
    "\n",
    "    def handle_data(self, data):\n",
    "        if data == '\\n': return\n",
    "        print('>>> Data')\n",
    "        print(data)\n",
    "\n",
    "\n",
    "h = \"\"\n",
    "for i in range(int(input())):\n",
    "    h += input().rstrip()\n",
    "    h += '\\n'\n",
    "\n",
    "parser = MyHTMLParser()\n",
    "parser.feed(h)\n",
    "parser.close()"
   ]
  },
  {
   "cell_type": "code",
   "execution_count": 6,
   "metadata": {},
   "outputs": [
    {
     "name": "stdout",
     "output_type": "stream",
     "text": [
      "9\n",
      "<head>\n",
      "<title>HTML</title>\n",
      "</head>\n",
      "<object type=\"application/x-flash\" \n",
      "data=\"your-file.swf\" \n",
      "  width=\"0\" height=\"0\">\n",
      "  <!-- <param name=\"movie\" value=\"your-file.swf\" /> -->\n",
      " <param name=\"quality\" value=\"high\"/>\n",
      "</object>\n",
      "head\n",
      "title\n",
      "object\n",
      "-> type > application/x-flash\n",
      "-> data > your-file.swf\n",
      "-> width > 0\n",
      "-> height > 0\n",
      "param\n",
      "-> name > quality\n",
      "-> value > high\n"
     ]
    }
   ],
   "source": [
    "# Question 12\n",
    "\n",
    "from html.parser import HTMLParser\n",
    "\n",
    "\n",
    "class MyHTMLParser(HTMLParser):\n",
    "    def handle_starttag(self, tag, attrs):\n",
    "        print(tag)\n",
    "        for attr in attrs:\n",
    "            print(\"->\",\" > \".join(attr))\n",
    "\n",
    "parser = MyHTMLParser()\n",
    "\n",
    "h = \"\"\n",
    "for i in range(int(input())):\n",
    "    h +=input()\n",
    "    h += '\\n'\n",
    "\n",
    "\n",
    "parser.feed(h)\n"
   ]
  },
  {
   "cell_type": "code",
   "execution_count": 7,
   "metadata": {},
   "outputs": [
    {
     "name": "stdout",
     "output_type": "stream",
     "text": [
      "2\n",
      "B1CD102354\n",
      "Invalid\n",
      "B1CDEF2354\n",
      "Valid\n"
     ]
    }
   ],
   "source": [
    "# Question 13\n",
    "\n",
    "import re\n",
    "for i in range(int(input())):\n",
    "    num = input().strip()\n",
    "    if num.isalnum() and len(num) == 10:\n",
    "        if bool(re.search(r'(.*[A-Z]){2,}',num)) and bool(re.search(r'(.*[0-9]){3,}',num)):\n",
    "            if re.search(r'.*(.).*\\1+.*',num):\n",
    "                print('Invalid')\n",
    "            else:\n",
    "                print('Valid')    \n",
    "        else:\n",
    "            print('Invalid')\n",
    "    else:\n",
    "        print('Invalid')"
   ]
  },
  {
   "cell_type": "code",
   "execution_count": 8,
   "metadata": {},
   "outputs": [
    {
     "name": "stdout",
     "output_type": "stream",
     "text": [
      "6\n",
      "4123456789123456\n",
      "Valid\n",
      "5123-4567-8912-3456\n",
      "Valid\n",
      "61234-567-8912-3456\n",
      "Invalid\n",
      "41233567891234564123356789123456\n",
      "Invalid\n",
      "5133-3367-8912-3456\n",
      "Invalid\n",
      "5123 - 3567 - 8912 - 3456\n",
      "Invalid\n"
     ]
    }
   ],
   "source": [
    "# Question  14\n",
    "\n",
    "import re\n",
    "\n",
    "pattern = re.compile(\n",
    "    r'^'\n",
    "    r'(?!.*(\\d)(-?\\1){3})'\n",
    "    r'[456]\\d{3}'\n",
    "    r'(?:-?\\d{4}){3}'\n",
    "    r'$')\n",
    "for _ in range(int(input().strip())):\n",
    "    if pattern.search(input().strip()):\n",
    "        print('Valid') \n",
    "    else:\n",
    "        print('Invalid')\n"
   ]
  },
  {
   "cell_type": "code",
   "execution_count": 9,
   "metadata": {},
   "outputs": [
    {
     "name": "stdout",
     "output_type": "stream",
     "text": [
      "110000\n",
      "False\n"
     ]
    }
   ],
   "source": [
    "# Question  15\n",
    "\n",
    "regex_integer_in_range = r\"^[1-9]\\d{5}$\"\n",
    "regex_alternating_repetitive_digit_pair = r\"(\\d)(?=\\d\\1)\"\n",
    "\n",
    "import re\n",
    "P = input()\n",
    "\n",
    "print (bool(re.match(regex_integer_in_range, P)) \n",
    "and len(re.findall(regex_alternating_repetitive_digit_pair, P)) < 2)"
   ]
  },
  {
   "cell_type": "code",
   "execution_count": 10,
   "metadata": {},
   "outputs": [
    {
     "name": "stdout",
     "output_type": "stream",
     "text": [
      "7 3\n",
      "Tsi\n",
      "h%x\n",
      "i #\n",
      "sM\n",
      "$a\n",
      "#t%\n",
      "ir!\n",
      "This is Matr\n"
     ]
    }
   ],
   "source": [
    "# Question  16\n",
    "\n",
    "import re\n",
    "\n",
    "x, y = input().strip().split(' ')\n",
    "x, y = [int(x), int(y)]\n",
    "mat = []\n",
    "for _ in range(x):\n",
    "    matt = str(input())\n",
    "    mat.append(matt)\n",
    "    \n",
    "c = \"\"\n",
    "for elem in zip(*mat):\n",
    "    c += \"\".join(elem)\n",
    "print(re.sub(r'(?<=\\w)([^\\w]+)(?=\\w)', \" \", c))\n"
   ]
  },
  {
   "cell_type": "code",
   "execution_count": null,
   "metadata": {},
   "outputs": [],
   "source": []
  }
 ],
 "metadata": {
  "kernelspec": {
   "display_name": "Python 3",
   "language": "python",
   "name": "python3"
  },
  "language_info": {
   "codemirror_mode": {
    "name": "ipython",
    "version": 3
   },
   "file_extension": ".py",
   "mimetype": "text/x-python",
   "name": "python",
   "nbconvert_exporter": "python",
   "pygments_lexer": "ipython3",
   "version": "3.8.3"
  }
 },
 "nbformat": 4,
 "nbformat_minor": 4
}
